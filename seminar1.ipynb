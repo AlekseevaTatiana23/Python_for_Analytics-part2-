{
 "cells": [
  {
   "cell_type": "markdown",
   "id": "9bc66377-2673-42a6-900c-086bf47099b3",
   "metadata": {},
   "source": [
    "## Задание 1\n",
    "### 1.1 Соедините два словаря в один"
   ]
  },
  {
   "cell_type": "code",
   "execution_count": 1,
   "id": "81cbcd4f-6336-4a12-b451-117c8637be9a",
   "metadata": {},
   "outputs": [],
   "source": [
    "dict1 = {1: 'q', 2: 'w'}\n",
    "dict2 = {3: 'a', 4: 'd'}"
   ]
  },
  {
   "cell_type": "code",
   "execution_count": 2,
   "id": "0de66aaa-2acf-47cb-8d6b-27804d763f44",
   "metadata": {},
   "outputs": [],
   "source": [
    "dict1.update(dict2)"
   ]
  },
  {
   "cell_type": "code",
   "execution_count": 3,
   "id": "9b811417-38a1-4827-8ac9-808bed777ff3",
   "metadata": {},
   "outputs": [
    {
     "name": "stdout",
     "output_type": "stream",
     "text": [
      "{1: 'q', 2: 'w', 3: 'a', 4: 'd'}\n"
     ]
    }
   ],
   "source": [
    "print(dict1)"
   ]
  },
  {
   "cell_type": "markdown",
   "id": "13a0171a-a289-4f2f-b9e9-c27937b68fb4",
   "metadata": {},
   "source": [
    "### 1.2 Напишите функцию, которая на вход принимает два словаря и возвращает один объединенный словарь\n"
   ]
  },
  {
   "cell_type": "code",
   "execution_count": 5,
   "id": "385e5bf2-1b8f-42a6-8553-76e5b961d718",
   "metadata": {},
   "outputs": [
    {
     "name": "stdout",
     "output_type": "stream",
     "text": [
      "{1: 'q', 2: 'w', 3: 'a', 4: 'd'}\n"
     ]
    }
   ],
   "source": [
    "def merge_dict(dict1: dict, dict2: dict) -> dict:\n",
    "    dict1.update(dict2)\n",
    "    return dict1\n",
    "\n",
    "print(merge_dict(dict1, dict2))"
   ]
  },
  {
   "cell_type": "markdown",
   "id": "230839aa-fa73-43f4-a672-9815479f2997",
   "metadata": {},
   "source": [
    "## Задание 2\n",
    "### Напишите функцию, которая из двух списков, делает один словарь, где элементы из первого списка - ключи, а элементы из второго списка -значения\n",
    "### 2.1 Используя for"
   ]
  },
  {
   "cell_type": "code",
   "execution_count": 9,
   "id": "7813859c-9dc3-4eca-8a7c-884de195d448",
   "metadata": {},
   "outputs": [
    {
     "name": "stdout",
     "output_type": "stream",
     "text": [
      "{'One': 1, 'Two': 2, 'Three': 3}\n"
     ]
    }
   ],
   "source": [
    "def create_dict(list1: list, list2: list) -> dict:\n",
    "    new_dict = {}\n",
    "    for i in range(len(list1)):\n",
    "       new_dict.update({list1[i]: list2[i]})\n",
    "    return new_dict\n",
    "\n",
    "keys = ['One', 'Two', 'Three']\n",
    "values = [1, 2, 3]\n",
    "print(create_dict(keys, values))"
   ]
  },
  {
   "cell_type": "markdown",
   "id": "bc4a9733-2af2-47a0-9416-1f2bcfa59f7f",
   "metadata": {},
   "source": [
    "### 2.2 dict comprehentions"
   ]
  },
  {
   "cell_type": "code",
   "execution_count": 11,
   "id": "31d6a030-f04e-49de-bcb5-e36f40964f0a",
   "metadata": {},
   "outputs": [
    {
     "name": "stdout",
     "output_type": "stream",
     "text": [
      "{'One': 1, 'Two': 2, 'Three': 3}\n"
     ]
    }
   ],
   "source": [
    "def create_dict(list1: list, list2: list) -> dict:\n",
    "    return {list1[i]: list2[i]  for i in range(len(list1))}\n",
    "\n",
    "print(create_dict(keys, values))  "
   ]
  },
  {
   "cell_type": "markdown",
   "id": "1cd0e17f-73bc-41c3-97d0-e8226190ffbc",
   "metadata": {},
   "source": [
    "##  Задание 3 Извлеките только два ключа name и age из представленного словаря\n",
    "\n",
    "### 3.1 Напишите функцию с циклом for\n",
    "### Функция на вход принимает:исходный словарь, ключи, которые нужно извлечь (аргумент по умолчанию). На выходе словарь с нужными ключами Используйте аннотирование типов"
   ]
  },
  {
   "cell_type": "code",
   "execution_count": 12,
   "id": "e0b9dfb7-e22c-4b55-beec-3a25b8dcabab",
   "metadata": {},
   "outputs": [],
   "source": [
    "client_dict = {\n",
    "    'name': 'John',\n",
    "    'age': 25,\n",
    "    'salary': 5000, \n",
    "    'city': 'Moscow'\n",
    "}\n"
   ]
  },
  {
   "cell_type": "code",
   "execution_count": 14,
   "id": "3daed362-372b-4f96-a217-5226115f7e2a",
   "metadata": {},
   "outputs": [
    {
     "name": "stdout",
     "output_type": "stream",
     "text": [
      "{'name': 'John', 'age': 25}\n"
     ]
    }
   ],
   "source": [
    "def get_dict(base_d: dict, keys: list=['name', 'age']) -> dict:\n",
    "    res = dict()\n",
    "    for i in keys:\n",
    "        res.update({i: base_d[i]})\n",
    "    return res\n",
    "\n",
    "print(get_dict(client_dict))"
   ]
  },
  {
   "cell_type": "markdown",
   "id": "25541497-0ae1-47a0-98c9-7e625840c5b7",
   "metadata": {},
   "source": [
    "### 3.2 dict comprehentions"
   ]
  },
  {
   "cell_type": "code",
   "execution_count": 15,
   "id": "804c13c9-3ed3-4869-9c26-d0274a80bcad",
   "metadata": {},
   "outputs": [
    {
     "name": "stdout",
     "output_type": "stream",
     "text": [
      "{'name': 'John', 'age': 25}\n"
     ]
    }
   ],
   "source": [
    "def get_dict(base_d: dict, keys: list=['name', 'age']) -> dict:\n",
    "    return {i: base_d[i] for i in keys}\n",
    "\n",
    "print(get_dict(client_dict))"
   ]
  },
  {
   "cell_type": "markdown",
   "id": "81e0b11b-cd4f-4823-853e-93432fb7b947",
   "metadata": {},
   "source": [
    "## 4.\n",
    "### 4.1 Сгенерируйте случайные целые числа от 0 до 100 в количестве 5 штук с помощью модуля random ● Зафиксируйте псевдогенерацию, чтобы сгенерированные значения всегда были одинаковые ● Используйте list comprehensions"
   ]
  },
  {
   "cell_type": "code",
   "execution_count": 17,
   "id": "f7bf70f1-d713-41bc-8617-e6a5a1151843",
   "metadata": {},
   "outputs": [
    {
     "name": "stdout",
     "output_type": "stream",
     "text": [
      "[79, 32, 94, 45, 88]\n"
     ]
    }
   ],
   "source": [
    "import random\n",
    "random.seed(5)\n",
    "list1 = [random.randint(0 , 100) for i in range(5)]\n",
    "print(list1)\n"
   ]
  },
  {
   "cell_type": "markdown",
   "id": "5d84e0de-7ddb-4bda-8fff-9e3e195c1b1d",
   "metadata": {},
   "source": [
    "### 4.2 Напишите генератор\n",
    "Генератор на вход принимает список с данными о клиенте (данные\n",
    "из пункта 4.1)\n",
    "Внутри генератора реализуйте обход по списку с данными\n",
    "На каждой итерации генератор будет возвращать кортеж из двух\n",
    "элементов:\n",
    "1. данные по клиенту (в зависимости от итерации, на 0 итерации\n",
    "вернется 0 элемент, на 1 итерации вернется 1 элемент и тд)\n",
    "2. целочисленное значение, которое показывает, сколько секунд\n",
    "прошло с предыдущей итерации\n",
    "Примечание: секунды, которые возвращаются должны показывать время не\n",
    "с начала запуска генератора, а именно то время, которое прошло с\n",
    "предыдущей итерации. А значит время на первой итерации должно\n",
    "равняться 0.\n",
    "Используйте функцию time из модуля time для подсчета времени.\n",
    "Чтобы проверить работу таймера, запустите проход по\n",
    "генератору в цикле с time.sleep(2)\n"
   ]
  },
  {
   "cell_type": "code",
   "execution_count": 20,
   "id": "7852c29a-7242-488e-b1fc-55bf5780f4fb",
   "metadata": {},
   "outputs": [
    {
     "name": "stdout",
     "output_type": "stream",
     "text": [
      "(79, 0) (32, 2) (94, 2) (45, 2) (88, 2)\n"
     ]
    }
   ],
   "source": [
    "import time\n",
    "\n",
    "def gener(data: list) -> list:\n",
    "    last_time = time.time()\n",
    "    list_res = []\n",
    "    for i in data:\n",
    "        list_res.append((i, int(time.time() - last_time)))\n",
    "        last_time = time.time()\n",
    "        time.sleep(2)\n",
    "    return list_res\n",
    "\n",
    "print(*gener(list1))"
   ]
  },
  {
   "cell_type": "markdown",
   "id": "f42836cd-4dad-4170-a4ae-c61f4a277f71",
   "metadata": {},
   "source": [
    "## 5\n",
    "### 5.1 Найдите картинку в интернете и прикрепите её в ячейку с текстом\n"
   ]
  },
  {
   "cell_type": "markdown",
   "id": "4020ba59-b603-47c4-ac6f-55b24b4c762a",
   "metadata": {},
   "source": [
    "<img src = 'https://images.wallpaperscraft.com/image/single/cat_face_eyes_29447_1280x720.jpg'\n",
    "width = 300>"
   ]
  },
  {
   "cell_type": "markdown",
   "id": "5535b348-8b50-4a06-ba0b-29f667ff0368",
   "metadata": {},
   "source": [
    "### 5.2"
   ]
  },
  {
   "cell_type": "code",
   "execution_count": 28,
   "id": "f36fc4c1-4977-4bc7-ac56-5ffe55fbc04d",
   "metadata": {},
   "outputs": [
    {
     "ename": "SyntaxError",
     "evalue": "invalid syntax (2000500467.py, line 1)",
     "output_type": "error",
     "traceback": [
      "\u001b[1;36m  Cell \u001b[1;32mIn[28], line 1\u001b[1;36m\u001b[0m\n\u001b[1;33m    <table>\u001b[0m\n\u001b[1;37m    ^\u001b[0m\n\u001b[1;31mSyntaxError\u001b[0m\u001b[1;31m:\u001b[0m invalid syntax\n"
     ]
    }
   ],
   "source": [
    "<table>\n",
    "    <tr>\n",
    "        <td> </td>\n",
    "        <td> До события </td> \n",
    "        <td> Во время события </td>\n",
    "    </tr>\n",
    "\n",
    "    <tr>\n",
    "        <td> 1 Контрольная точка </td>\n",
    "        <td> 350 события </td> \n",
    "        <td> 500 время события </td>\n",
    "    </tr>\n",
    "\n",
    "     <tr>\n",
    "        <td> 2 Контрольная точка </td>\n",
    "        <td> 350 события </td> \n",
    "        <td> 700 время события </td>\n",
    "    </tr>\n",
    "\n",
    "    <tr>\n",
    "        <td> 3 Контрольная точка </td>\n",
    "        <td> 400 события </td> \n",
    "        <td> 800 время события </td>\n",
    "    </tr>\n",
    "\n",
    "    <tr>\n",
    "        <td> Итого за победу </td>\n",
    "        <td> 1000 события </td> \n",
    "        <td> 2000 время события </td>\n",
    "    </tr>"
   ]
  },
  {
   "cell_type": "markdown",
   "id": "cc7146eb-e3a9-4c17-be2d-f8e854c575fd",
   "metadata": {},
   "source": [
    "## 6\n",
    "### 6.1 Напишите функцию, которая может принимать любое количество трат пользователя и считать сумму и среднее. На вход поступают целочисленные значения в любом количестве На выходе словарь с ключами суммы трат и средней траты\n"
   ]
  },
  {
   "cell_type": "code",
   "execution_count": 31,
   "id": "1a6e226e-fd68-4f56-9d71-67f1686efc7f",
   "metadata": {},
   "outputs": [
    {
     "name": "stdout",
     "output_type": "stream",
     "text": [
      "{'sum': 21, 'mean': 5.25}\n"
     ]
    }
   ],
   "source": [
    "def calc(*args):\n",
    "    sum_t = sum(args)\n",
    "    kol_t = len(args)\n",
    "    return {'sum': sum_t, 'mean':sum_t/kol_t}\n",
    "\n",
    "print(calc(1, 10, 5, 5))"
   ]
  },
  {
   "cell_type": "code",
   "execution_count": null,
   "id": "440ecd26-57c4-4e7f-8460-1f6ca1643e9c",
   "metadata": {},
   "outputs": [],
   "source": []
  }
 ],
 "metadata": {
  "kernelspec": {
   "display_name": "Python 3 (ipykernel)",
   "language": "python",
   "name": "python3"
  },
  "language_info": {
   "codemirror_mode": {
    "name": "ipython",
    "version": 3
   },
   "file_extension": ".py",
   "mimetype": "text/x-python",
   "name": "python",
   "nbconvert_exporter": "python",
   "pygments_lexer": "ipython3",
   "version": "3.10.0"
  }
 },
 "nbformat": 4,
 "nbformat_minor": 5
}
